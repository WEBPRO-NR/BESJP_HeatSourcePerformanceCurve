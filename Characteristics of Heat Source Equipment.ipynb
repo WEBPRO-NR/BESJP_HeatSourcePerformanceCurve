{
 "cells": [
  {
   "cell_type": "markdown",
   "metadata": {},
   "source": [
    "# 熱源機器特性のグラフ表示\n",
    "\n",
    "- 一次エネルギー消費量計算プログラム（非住宅版, Ver.2） で使用している空調熱源機器特性をグラフで表示します。"
   ]
  },
  {
   "cell_type": "markdown",
   "metadata": {},
   "source": [
    "## A. ファイル読み込み\n",
    "- 熱源機器特性を規定している REFLIST.csv, REFCURVE.csv から読み込み\n",
    "  - このプログラムファイルと同パスに上記2ファイルを置くこと\n",
    "  - 上記2ファイルを含むzipファイルのURL：\n",
    "         http://www.kenken.go.jp/becc/documents/building/Definitions/REFLIST_H28_REFCURVE_H28.zip (2019/8現在)"
   ]
  },
  {
   "cell_type": "code",
   "execution_count": 1,
   "metadata": {},
   "outputs": [],
   "source": [
    "import pandas as pd\n",
    "import numpy as np\n",
    "import pprint as pp\n",
    "import sys\n",
    "import matplotlib as mpl\n",
    "import matplotlib.pyplot as plt\n",
    "import ipywidgets as widgets\n",
    "from IPython.display import display, clear_output\n",
    "%matplotlib inline\n",
    "\n",
    "# グラフ文字化け対策\n",
    "mpl.rcParams['font.family'] = 'Noto Sans CJK JP'\n",
    "plt.rcParams['grid.linestyle']='--'\n",
    "plt.rcParams['grid.linewidth'] = 0.5\n",
    "\n",
    "# ファイルの指定\n",
    "file01='./REFLIST.csv'\n",
    "file02='./REFCURVE.csv'\n",
    "\n",
    "\n",
    "\"\"\" ファイルを読み込む関数 \"\"\"\n",
    "def input_files(filename):\n",
    "    dat = pd.read_csv(filename, encoding=\"ms932\", sep=\",\").values.tolist()\n",
    "    return dat"
   ]
  },
  {
   "cell_type": "markdown",
   "metadata": {},
   "source": [
    "## B. 熱源機器特性データの格納\n",
    "- 熱源機器特性データを多層の辞書として格納\n",
    "\n",
    "- `ch_hse`: [機種][冷／暖][特性種類][下限][冷却水温度下限]の多段のキーの値として、REFLIST_H28.csv のデータ＋対応する REFCURVE_H28.csvの特性パラメータ をリストとして持つ\n",
    "\n",
    " - [名称, 機種, 燃料種類, 熱源種類, 冷房／暖房, 特性種類, 下限, 上限, 特性ID, 基整促係数, 冷却水温度下限, 冷却水温度上限, REFLIST_H28.csvのリストの並び順, REFCURVE_H28.csvの特性パラメータのリスト]\n",
    " - REFCURVE_H28.csvの特性パラメータのリストは、[名称(番号), 名称(特性ID), 説明, x4, x3, x2, x1, a, 特性曲線リストの順番]\n",
    " - 温度下限の設定がない場合は-99℃で置き換え。上限は999℃で置き換え。"
   ]
  },
  {
   "cell_type": "code",
   "execution_count": 2,
   "metadata": {},
   "outputs": [],
   "source": [
    "\"\"\" 熱源機器特性データの格納 \"\"\"\n",
    "def set_data(file01, file02): \n",
    "    \n",
    "    reflist  = input_files(file01)\n",
    "    refcurve = input_files(file02)\n",
    "   \n",
    "    dic_curve = {}\n",
    "    for i in range(len(refcurve)):\n",
    "        dic_curve0 = refcurve[i]\n",
    "        dic_curve0.append(i)\n",
    "        dic_curve[dic_curve0[1]] = dic_curve0 \n",
    "        # dic_curve[key] = refcurve[i]のリストの最後に順番iをチェック用に付加したリスト\n",
    "        # key=refcurve[i][1]: 特性曲線の名称(ex.Cq_AS_A)\n",
    "        # l=0:名称, l=1:名称, l=2:説明, l=3:x4, l=4:x3, l=5:x2, l=6:x1, l=7:a, l=8:特性曲線リストの順番\n",
    "\n",
    "    ch_hse = {}\n",
    "    for i in range(len(reflist)):\n",
    "        ch_hse0 = reflist[i]\n",
    "        ch_hse0.append(i)\n",
    "        ch_hse0.append(dic_curve[ch_hse0[8]])\n",
    "        # ch_hse0[k]: reflist[i]のリストの最後に順番i(チェック用)と該当する特性曲線のパラメータ\n",
    "        #             リストを付加したリスト\n",
    "        # k=0:名称, k=1:機種, k=2:燃料種類, k=3:熱源種類, k=4:冷房／暖房,\n",
    "        # k=5:特性種類, k=6:下限, k=7:上限, k=8:特性ID, k=9:基整促係数,\n",
    "        # k=10:冷却水温度下限, k=11:冷却水温度上限, k=12:リストの順番\n",
    "        # k=13:特性IDで紐付けされている特性曲線パラメータリスト\n",
    "\n",
    "        ch_hse.setdefault(ch_hse0[1], {})\n",
    "        ch_hse[ch_hse0[1]].setdefault(ch_hse0[4], {})\n",
    "        ch_hse[ch_hse0[1]][ch_hse0[4]].setdefault(ch_hse0[5], {})\n",
    "        \n",
    "        if ch_hse0[10]!=ch_hse0[10]:\n",
    "            ch_hse0[10] = -99.0       # 冷却水温度下限がNaNの場合 → -99℃を挿入\n",
    "            \n",
    "        if ch_hse0[11]!=ch_hse0[11]:  # 冷却水温度上限がNaNの場合 → 999℃を挿入\n",
    "            ch_hse0[11] = 999.0    \n",
    "            \n",
    "        ch_hse[ch_hse0[1]][ch_hse0[4]][ch_hse0[5]].setdefault(ch_hse0[10], {})\n",
    "        \n",
    "        if ch_hse0[6]!=ch_hse0[6]:    # 下限がNaNの場合 → -99℃を挿入\n",
    "            ch_hse0[6] = -99.0\n",
    "            \n",
    "        if ch_hse0[7]!=ch_hse0[7]:    # 上限がNaNの場合 → 999℃を挿入\n",
    "            ch_hse0[6] = 999.0\n",
    "            \n",
    "        ch_hse[ch_hse0[1]][ch_hse0[4]][ch_hse0[5]][ch_hse0[10]].setdefault(ch_hse0[6], {})            \n",
    "        ch_hse[ch_hse0[1]][ch_hse0[4]][ch_hse0[5]][ch_hse0[10]][ch_hse0[6]] = ch_hse0      \n",
    "        # ch_hse[機種][冷／暖][特性種類][冷却水温度下限][下限][k]\n",
    "   \n",
    "    return ch_hse"
   ]
  },
  {
   "cell_type": "code",
   "execution_count": 3,
   "metadata": {},
   "outputs": [
    {
     "name": "stdout",
     "output_type": "stream",
     "text": [
      "{'Cooling': {'入力比': {-99.0: {12.0: ['TurboChiller_INV',\n",
      "                                    'インバータターボ冷凍機',\n",
      "                                    '電力',\n",
      "                                    '水',\n",
      "                                    'Cooling',\n",
      "                                    '入力比',\n",
      "                                    12.0,\n",
      "                                    33.0,\n",
      "                                    'Cp_WS_C',\n",
      "                                    1.2,\n",
      "                                    -99.0,\n",
      "                                    999.0,\n",
      "                                    81,\n",
      "                                    [9.0,\n",
      "                                     'Cp_WS_C',\n",
      "                                     '入力比特性（冷）',\n",
      "                                     0.0,\n",
      "                                     0.0,\n",
      "                                     0.0004,\n",
      "                                     0.0096,\n",
      "                                     0.2832,\n",
      "                                     13]]}},\n",
      "             '能力比': {-99.0: {12.0: ['TurboChiller_INV',\n",
      "                                    'インバータターボ冷凍機',\n",
      "                                    '電力',\n",
      "                                    '水',\n",
      "                                    'Cooling',\n",
      "                                    '能力比',\n",
      "                                    12.0,\n",
      "                                    33.0,\n",
      "                                    'Cq_WS_B',\n",
      "                                    0.95,\n",
      "                                    -99.0,\n",
      "                                    999.0,\n",
      "                                    80,\n",
      "                                    [4.0,\n",
      "                                     'Cq_WS_B',\n",
      "                                     '能力比特性（冷）',\n",
      "                                     0.0,\n",
      "                                     0.0,\n",
      "                                     0.0,\n",
      "                                     0.0,\n",
      "                                     1.0,\n",
      "                                     4]]}},\n",
      "             '送水温度特性': {-99.0: {4.0: ['TurboChiller_INV',\n",
      "                                      'インバータターボ冷凍機',\n",
      "                                      '電力',\n",
      "                                      '水',\n",
      "                                      'Cooling',\n",
      "                                      '送水温度特性',\n",
      "                                      4.0,\n",
      "                                      15.0,\n",
      "                                      'Cw_WS_A',\n",
      "                                      1.0,\n",
      "                                      -99.0,\n",
      "                                      999.0,\n",
      "                                      85,\n",
      "                                      [27.0,\n",
      "                                       'Cw_WS_A',\n",
      "                                       '送水温度特性（冷）',\n",
      "                                       0.0,\n",
      "                                       0.0,\n",
      "                                       0.0,\n",
      "                                       -0.036000000000000004,\n",
      "                                       1.2541,\n",
      "                                       37]]}},\n",
      "             '部分負荷特性': {0.0: {0.2: ['TurboChiller_INV',\n",
      "                                    'インバータターボ冷凍機',\n",
      "                                    '電力',\n",
      "                                    '水',\n",
      "                                    'Cooling',\n",
      "                                    '部分負荷特性',\n",
      "                                    0.2,\n",
      "                                    1.0,\n",
      "                                    'Cx_WS_B3',\n",
      "                                    1.0,\n",
      "                                    0.0,\n",
      "                                    24.0,\n",
      "                                    82,\n",
      "                                    [18.0,\n",
      "                                     'Cx_WS_B3',\n",
      "                                     '部分負荷特性（冷）',\n",
      "                                     0.0,\n",
      "                                     0.0,\n",
      "                                     0.58656667,\n",
      "                                     0.24616667,\n",
      "                                     0.16726667,\n",
      "                                     26]]},\n",
      "                        24.0: {0.2: ['TurboChiller_INV',\n",
      "                                     'インバータターボ冷凍機',\n",
      "                                     '電力',\n",
      "                                     '水',\n",
      "                                     'Cooling',\n",
      "                                     '部分負荷特性',\n",
      "                                     0.2,\n",
      "                                     1.0,\n",
      "                                     'Cx_WS_B2',\n",
      "                                     1.0,\n",
      "                                     24.0,\n",
      "                                     32.0,\n",
      "                                     83,\n",
      "                                     [17.0,\n",
      "                                      'Cx_WS_B2',\n",
      "                                      '部分負荷特性（冷）',\n",
      "                                      0.0,\n",
      "                                      0.0,\n",
      "                                      0.4759,\n",
      "                                      0.2765,\n",
      "                                      0.2476,\n",
      "                                      25]]},\n",
      "                        32.0: {0.2: ['TurboChiller_INV',\n",
      "                                     'インバータターボ冷凍機',\n",
      "                                     '電力',\n",
      "                                     '水',\n",
      "                                     'Cooling',\n",
      "                                     '部分負荷特性',\n",
      "                                     0.2,\n",
      "                                     1.0,\n",
      "                                     'Cx_WS_B1',\n",
      "                                     1.0,\n",
      "                                     32.0,\n",
      "                                     60.0,\n",
      "                                     84,\n",
      "                                     [16.0,\n",
      "                                      'Cx_WS_B1',\n",
      "                                      '部分負荷特性（冷）',\n",
      "                                      0.0,\n",
      "                                      0.21876667,\n",
      "                                      0.0032,\n",
      "                                      0.51906667,\n",
      "                                      0.25896667,\n",
      "                                      24]]}}}}\n"
     ]
    }
   ],
   "source": [
    "\"\"\" set_data - Test \"\"\"\n",
    "\n",
    "ch_hse = set_data(file01, file02)\n",
    "\n",
    "pp.pprint(ch_hse['インバータターボ冷凍機'])\n"
   ]
  },
  {
   "cell_type": "markdown",
   "metadata": {},
   "source": [
    "## C.グラフ描画"
   ]
  },
  {
   "cell_type": "code",
   "execution_count": 4,
   "metadata": {},
   "outputs": [],
   "source": [
    "\"\"\" 性能曲線の4次式計算 \"\"\"\n",
    "def func004(coeff, x):\n",
    "    func = coeff[4]\n",
    "    for i in range(4):\n",
    "        func += coeff[i] * x**(4-i)\n",
    "    return func"
   ]
  },
  {
   "cell_type": "code",
   "execution_count": 5,
   "metadata": {},
   "outputs": [],
   "source": [
    "\"\"\" グラフ描画用関数 \"\"\"\n",
    "def func_ch(coeff1, x):\n",
    "    # print(coeff1)\n",
    "    coeff1keys = sorted(list(coeff1.keys()))    # 下限のリストをソート\n",
    "    y0 = []\n",
    "    for xx in x:\n",
    "        for ikey in coeff1keys:\n",
    "            if coeff1[ikey][0]  <= xx < coeff1[ikey][1]:\n",
    "                yy = func004(coeff1[ikey][2:7], xx)\n",
    "                y0.append(yy)\n",
    "    y = np.array(y0)\n",
    "    return y"
   ]
  },
  {
   "cell_type": "code",
   "execution_count": 6,
   "metadata": {},
   "outputs": [
    {
     "name": "stdout",
     "output_type": "stream",
     "text": [
      "array([-20, -19, -18, -17, -16, -15, -14, -13, -12, -11, -10,  -9,  -8,\n",
      "        -7,  -6,  -5,  -4,  -3,  -2,  -1,   0,   1,   2,   3,   4,   5,\n",
      "         6,   7,   8,   9,  10,  11,  12,  13,  14,  15,  16,  17,  18,\n",
      "        19,  20])\n",
      "array([0.4645 , 0.4645 , 0.4645 , 0.4645 , 0.4645 , 0.4645 , 0.49   ,\n",
      "       0.5155 , 0.541  , 0.5665 , 0.592  , 0.6175 , 0.6396 , 0.6549 ,\n",
      "       0.6702 , 0.6855 , 0.7008 , 0.7161 , 0.7314 , 0.7467 , 0.762  ,\n",
      "       0.7773 , 0.7926 , 0.8079 , 0.8232 , 0.9745 , 1.     , 1.0255 ,\n",
      "       1.051  , 1.0765 , 1.102  , 1.1275 , 1.153  , 1.1785 , 1.204  ,\n",
      "       1.2295 , 1.24225, 1.24225, 1.24225, 1.24225, 1.24225])\n",
      "[2]\n",
      "array([0.7926])\n"
     ]
    }
   ],
   "source": [
    "\"\"\" func_ch - Test \"\"\"\n",
    "\n",
    "coeff1={-99: [-99, -15.0, 0, 0, 0, 0, 0.4645], -15.0: [-15.0, -8.0, 0.0, 0.0, 0.0, 0.0255, 0.847], -8.0: [-8.0, 4.5, 0.0, 0.0, 0.0, 0.0153, 0.762], 4.5: [4.5, 15.5, 0.0, 0.0, 0.0, 0.0255, 0.847], 15.5: [15.5, 999, 0, 0, 0, 0, 1.2422499999999999]}\n",
    "x = np.arange(-20, 21, 1)\n",
    "y=func_ch(coeff1, x)\n",
    "pp.pprint(x)\n",
    "pp.pprint(y)\n",
    "\n",
    "x=[2]\n",
    "y=func_ch(coeff1, x)\n",
    "pp.pprint(x)\n",
    "pp.pprint(y)"
   ]
  },
  {
   "cell_type": "code",
   "execution_count": 7,
   "metadata": {},
   "outputs": [],
   "source": [
    "\"\"\" グラフ描画データの抽出・整理 \"\"\"\n",
    "def func_check(ch_hse, HSE_name, CorH, Cha0):\n",
    "\n",
    "    if HSE_name in ch_hse:\n",
    "        if CorH in ch_hse[HSE_name]:\n",
    "            if Cha0 in ch_hse[HSE_name][CorH]:\n",
    "                coeff0 = {}\n",
    "                for ikey in ch_hse[HSE_name][CorH][Cha0].keys():\n",
    "                    coeff1 = {}\n",
    "                    jn=len(ch_hse[HSE_name][CorH][Cha0][ikey].keys())\n",
    "                    xmin = [-99,999,0,0,0,0,0]\n",
    "                    xmax = [-99,999,0,0,0,0,0]\n",
    "                    coeff1[-99] = [-99,999,0,0,0,0,0]\n",
    "                    \n",
    "                    # 下限～上限の特性曲線の係数値が設定されている部分のデータ整理\n",
    "                    for jkey in ch_hse[HSE_name][CorH][Cha0][ikey].keys():\n",
    "                        if xmin[1] > ch_hse[HSE_name][CorH][Cha0][ikey][jkey][6]:\n",
    "                            xmin[1] = ch_hse[HSE_name][CorH][Cha0][ikey][jkey][6]\n",
    "                            xmin[2:7]=ch_hse[HSE_name][CorH][Cha0][ikey][jkey][13][3:8]\n",
    "                        if xmax[0] < ch_hse[HSE_name][CorH][Cha0][ikey][jkey][7]:\n",
    "                            xmax[0] = ch_hse[HSE_name][CorH][Cha0][ikey][jkey][7]\n",
    "                            xmax[2:7]=ch_hse[HSE_name][CorH][Cha0][ikey][jkey][13][3:8]                    \n",
    "                        coeff2 = [ch_hse[HSE_name][CorH][Cha0][ikey][jkey][6]]\n",
    "                        coeff2 += [ch_hse[HSE_name][CorH][Cha0][ikey][jkey][7]]\n",
    "                        coeff2 += ch_hse[HSE_name][CorH][Cha0][ikey][jkey][13][3:8]\n",
    "                        coeff1[jkey] = coeff2\n",
    "                        \n",
    "                    # 下限以下、上限以上で一定値を取る部分のデータ整理\n",
    "                    xmin[6] = func004(xmin[2:7], xmin[1])\n",
    "                    xmax[6] = func004(xmax[2:7], xmax[0])\n",
    "                    for k in range(2,6):\n",
    "                        xmin[k] = 0\n",
    "                        xmax[k] = 0\n",
    "                        \n",
    "                    coeff1[xmin[0]] = xmin                    \n",
    "                    coeff1[xmax[0]] = xmax\n",
    "                    coeff0[ikey] = coeff1\n",
    "    return coeff0"
   ]
  },
  {
   "cell_type": "code",
   "execution_count": 8,
   "metadata": {},
   "outputs": [
    {
     "name": "stdout",
     "output_type": "stream",
     "text": [
      "{-99.0: {-99: [-99, -15.0, 0, 0, 0, 0, 0.4645], -15.0: [-15.0, -8.0, 0.0, 0.0, 0.0, 0.0255, 0.847], -8.0: [-8.0, 4.5, 0.0, 0.0, 0.0, 0.0153, 0.762], 4.5: [4.5, 15.5, 0.0, 0.0, 0.0, 0.0255, 0.847], 15.5: [15.5, 999, 0, 0, 0, 0, 1.2422499999999999]}}\n",
      "{-99.0: {-99: [-99, 0.1, 0, 0, 0, 0, 0.137206], 0.1: [0.1, 1.0, 0.0, 0.0, 0.1726, 0.7688, 0.0586], 1.0: [1.0, 999, 0, 0, 0, 0, 1.0]}}\n",
      "{0.0: {-99: [-99, 0.2, 0, 0, 0, 0, 0.2399626708],\n",
      "       0.2: [0.2, 1.0, 0.0, 0.0, 0.58656667, 0.24616667, 0.16726667],\n",
      "       1.0: [1.0, 999, 0, 0, 0, 0, 1.00000001]},\n",
      " 24.0: {-99: [-99, 0.2, 0, 0, 0, 0, 0.321936],\n",
      "        0.2: [0.2, 1.0, 0.0, 0.0, 0.4759, 0.2765, 0.2476],\n",
      "        1.0: [1.0, 999, 0, 0, 0, 0, 1.0]},\n",
      " 32.0: {-99: [-99, 0.2, 0, 0, 0, 0, 0.36465813736],\n",
      "        0.2: [0.2, 1.0, 0.0, 0.21876667, 0.0032, 0.51906667, 0.25896667],\n",
      "        1.0: [1.0, 999, 0, 0, 0, 0, 1.00000001]}}\n"
     ]
    }
   ],
   "source": [
    "\"\"\" func_check - Test \"\"\"\n",
    "HSE_name='ウォータチリングユニット(空冷式)'\n",
    "CorH='Heating'\n",
    "Cha0='能力比'\n",
    "ch_hse = set_data(file01, file02)\n",
    "coeff0=func_check(ch_hse, HSE_name, CorH, Cha0)\n",
    "print(coeff0)\n",
    "\n",
    "HSE_name='ウォータチリングユニット(空冷式モジュール形)'\n",
    "CorH='Cooling'\n",
    "Cha0='部分負荷特性'\n",
    "ch_hse = set_data(file01, file02)\n",
    "coeff0=func_check(ch_hse, HSE_name, CorH, Cha0)\n",
    "print(coeff0)\n",
    "\n",
    "HSE_name='インバータターボ冷凍機'\n",
    "CorH='Cooling'\n",
    "Cha0='部分負荷特性'\n",
    "ch_hse = set_data(file01, file02)\n",
    "coeff0=func_check(ch_hse, HSE_name, CorH, Cha0)\n",
    "pp.pprint(coeff0)"
   ]
  },
  {
   "cell_type": "code",
   "execution_count": 9,
   "metadata": {},
   "outputs": [],
   "source": [
    "def calc_pE(ch_hse, coeff00, params):\n",
    "    # params = [機種名, 暖房or冷房, 熱源水等温度, 処理熱量, 送水温度, 定格能力, 定格入力]\n",
    "    # coeff00[冷／暖][特性種類] = coeff0 = [冷却水温度下限][下限][coeff1]\n",
    "    # ch_hse[機種][冷／暖][特性種類][冷却水温度下限][下限][k]\n",
    "    \n",
    "    x =[params[2]]\n",
    "    x4 = [params[4]]\n",
    "    # 最大能力特性[-]\n",
    "    jCha0key = '能力比'\n",
    "    fa = 1\n",
    "    if jCha0key in ch_hse[params[0]][params[1]].keys():    # 特性があれば\n",
    "        for kkey in coeff00[params[1]][jCha0key].keys():    # 冷却水温度下限\n",
    "            lkey1 = list(ch_hse[params[0]][params[1]][jCha0key][kkey].keys())[0]\n",
    "            kkey1 = ch_hse[params[0]][params[1]][jCha0key][kkey][lkey1][11]  # 冷却水温度上限探索\n",
    "            if kkey <= params[2] < kkey1:    # 熱源水温度の幅に入るのなら……\n",
    "                fa = func_ch(coeff00[params[1]][jCha0key][kkey], [params[2]] )[0]\n",
    "                \n",
    "    # 最大能力[kW] = 定格能力[kW]×fa(熱源水等温度)\n",
    "    qmax = params[5] * fa\n",
    "    \n",
    "    # 最大入力特性[-]\n",
    "    jCha0key = '入力比'\n",
    "    fb = 1\n",
    "    if jCha0key in ch_hse[params[0]][params[1]].keys():    # 特性があれば\n",
    "        for kkey in coeff00[params[1]][jCha0key].keys():    # 冷却水温度下限\n",
    "            lkey1 = list(ch_hse[params[0]][params[1]][jCha0key][kkey].keys())[0]\n",
    "            kkey1 = ch_hse[params[0]][params[1]][jCha0key][kkey][lkey1][11]  # 冷却水温度上限探索\n",
    "            if kkey <= params[2] < kkey1:    # 冷却水温度の幅に入るのなら……\n",
    "                fb = func_ch(coeff00[params[1]][jCha0key][kkey], [params[2]] )[0]\n",
    "        \n",
    "    # 最大入力[kW] = 定格入力[kW]×fb(熱源水等温度)\n",
    "    pmax = params[6] * fb\n",
    "    \n",
    "    # 負荷率[-]\n",
    "    if qmax > 0:\n",
    "        loadratio = params[3] / qmax\n",
    "    else:\n",
    "        loadratio = 0\n",
    "    \n",
    "    # 部分負荷特性[-]\n",
    "    jCha0key = '部分負荷特性'\n",
    "    fc = 1\n",
    "    if loadratio > 1:\n",
    "        fc = 1.2\n",
    "    elif jCha0key in ch_hse[params[0]][params[1]].keys():    # 特性があれば\n",
    "        for kkey in coeff00[params[1]][jCha0key].keys():    # 冷却水温度下限\n",
    "            lkey1 = list(ch_hse[params[0]][params[1]][jCha0key][kkey].keys())[0]\n",
    "            kkey1 = ch_hse[params[0]][params[1]][jCha0key][kkey][lkey1][11]  # 冷却水温度上限探索\n",
    "            if kkey <= loadratio < kkey1:    # 冷却水温度の幅に入るのなら……\n",
    "                fc = func_ch(coeff00[params[1]][jCha0key][kkey], [loadratio] )[0]\n",
    "    \n",
    "    # 送水温度特性[-]\n",
    "    jCha0key = '送水温度特性'\n",
    "    fd = 1\n",
    "    if jCha0key in ch_hse[params[0]][params[1]].keys():    # 特性があれば\n",
    "        for kkey in coeff00[params[1]][jCha0key].keys():    # 冷却水温度下限\n",
    "            lkey1 = list(ch_hse[params[0]][params[1]][jCha0key][kkey].keys())[0]\n",
    "            kkey1 = ch_hse[params[0]][params[1]][jCha0key][kkey][lkey1][11]  # 冷却水温度上限探索\n",
    "            if kkey <= params[4] < kkey1:    # 冷却水温度の幅に入るのなら……\n",
    "                fd = func_ch(coeff00[params[1]][jCha0key][kkey], [params[4]] )[0]\n",
    "   \n",
    "    # エネルギー消費量[kW] = 最大入力[kW]×部分負荷特性[-]×送水温度特性[-]\n",
    "    EE = pmax * fc * fd\n",
    "\n",
    "    return fa,fb,fc,fd,qmax,pmax,loadratio,EE\n"
   ]
  },
  {
   "cell_type": "code",
   "execution_count": 10,
   "metadata": {},
   "outputs": [
    {
     "name": "stdout",
     "output_type": "stream",
     "text": [
      "1.091 0.8184 0.6765091956437177 1.0 10.91 8.184000000000001 0.687442713107241 5.5365512571481865\n"
     ]
    }
   ],
   "source": [
    "\"\"\" calc_pE - Test \"\"\"\n",
    "\n",
    "HSE_name='ウォータチリングユニット(空冷式)'\n",
    "\n",
    "coeff00={}\n",
    "for iCorHkeys in ['Cooling','Heating']:    # 暖房or冷房\n",
    "    for jCha0key in ['能力比','入力比','部分負荷特性','送水温度特性']:    # 特性種類(ex.'能力比')\n",
    "        coeff0=func_check(ch_hse, HSE_name, iCorHkeys, jCha0key)\n",
    "        coeff00.setdefault(iCorHkeys, {})\n",
    "        coeff00[iCorHkeys].setdefault(jCha0key, coeff0)\n",
    "        \n",
    "CorH = 'Cooling'\n",
    "params = [HSE_name, CorH, 7.5, 7.5, 7.5, 10, 10]\n",
    "fa,fb,fc,fd,qmax,pmax,loadratio,EE = calc_pE(ch_hse, coeff00, params)        \n",
    "\n",
    "print(fa,fb,fc,fd,qmax,pmax,loadratio,EE)"
   ]
  },
  {
   "cell_type": "code",
   "execution_count": 11,
   "metadata": {},
   "outputs": [
    {
     "data": {
      "application/vnd.jupyter.widget-view+json": {
       "model_id": "ac8ae710dee94a0fb5c9dd465a8470a0",
       "version_major": 2,
       "version_minor": 0
      },
      "text/plain": [
       "Dropdown(description='熱源機の種類:', index=11, layout=Layout(width='500px'), options=('機種を選んでください', 'ウォータチリングユニット(空…"
      ]
     },
     "metadata": {},
     "output_type": "display_data"
    },
    {
     "data": {
      "application/vnd.jupyter.widget-view+json": {
       "model_id": "2ac903ec723d49909ed4e15b50d2ba82",
       "version_major": 2,
       "version_minor": 0
      },
      "text/plain": [
       "Label(value='【以下に機器条件、運転条件を入力することで特性値、エネルギー消費量が求まります】')"
      ]
     },
     "metadata": {},
     "output_type": "display_data"
    },
    {
     "data": {
      "application/vnd.jupyter.widget-view+json": {
       "model_id": "806768d531cd4ca3a600edfc2bd042a0",
       "version_major": 2,
       "version_minor": 0
      },
      "text/plain": [
       "Dropdown(description='\\u3000・暖冷房:', layout=Layout(width='500px'), options=('冷房',), style=DescriptionStyle(desc…"
      ]
     },
     "metadata": {},
     "output_type": "display_data"
    },
    {
     "data": {
      "application/vnd.jupyter.widget-view+json": {
       "model_id": "1036ae352c06485cbfa7298cf5989610",
       "version_major": 2,
       "version_minor": 0
      },
      "text/plain": [
       "BoundedFloatText(value=10.0, description='\\u3000・定格能力 q_rated [kW]:', layout=Layout(width='500px'), max=999999…"
      ]
     },
     "metadata": {},
     "output_type": "display_data"
    },
    {
     "data": {
      "application/vnd.jupyter.widget-view+json": {
       "model_id": "de0e6fff29c64488b333d5825f207c0b",
       "version_major": 2,
       "version_minor": 0
      },
      "text/plain": [
       "BoundedFloatText(value=10.0, description='\\u3000・定格入力 p_rated [kW]:', layout=Layout(width='500px'), max=999999…"
      ]
     },
     "metadata": {},
     "output_type": "display_data"
    },
    {
     "data": {
      "application/vnd.jupyter.widget-view+json": {
       "model_id": "da16ae120df4477e83f5add2b8a9990c",
       "version_major": 2,
       "version_minor": 0
      },
      "text/plain": [
       "FloatText(value=25.0, description='\\u3000・熱源水等の温度θ[℃]:', layout=Layout(width='500px'), style=DescriptionStyle(…"
      ]
     },
     "metadata": {},
     "output_type": "display_data"
    },
    {
     "data": {
      "application/vnd.jupyter.widget-view+json": {
       "model_id": "04512040917f4ad8ad2d72c7e905c32c",
       "version_major": 2,
       "version_minor": 0
      },
      "text/plain": [
       "BoundedFloatText(value=7.5, description='\\u3000・処理熱量 q [kW]:', layout=Layout(width='500px'), max=999999999.0, …"
      ]
     },
     "metadata": {},
     "output_type": "display_data"
    },
    {
     "data": {
      "application/vnd.jupyter.widget-view+json": {
       "model_id": "54911de2b9f141249d21249ab231febb",
       "version_major": 2,
       "version_minor": 0
      },
      "text/plain": [
       "FloatText(value=7.5, description='\\u3000・送水温度 θw [℃]:', layout=Layout(width='500px'), style=DescriptionStyle(d…"
      ]
     },
     "metadata": {},
     "output_type": "display_data"
    },
    {
     "data": {
      "application/vnd.jupyter.widget-view+json": {
       "model_id": "bf5e23baf8a147008cb31c77fca4b9c4",
       "version_major": 2,
       "version_minor": 0
      },
      "text/plain": [
       "Label(value='【以上の条件で計算された特性値、エネルギー消費量は以下の通りです】')"
      ]
     },
     "metadata": {},
     "output_type": "display_data"
    },
    {
     "data": {
      "application/vnd.jupyter.widget-view+json": {
       "model_id": "0922cc3e63804125b14c6b46084253ca",
       "version_major": 2,
       "version_minor": 0
      },
      "text/plain": [
       "Label(value='\\u3000・最大能力比 fa(θ) = 1.0 [-]\\u3000\\u3000\\u3000・最大能力 q_max = fa × q_rated = 10.0 [kW]')"
      ]
     },
     "metadata": {},
     "output_type": "display_data"
    },
    {
     "data": {
      "application/vnd.jupyter.widget-view+json": {
       "model_id": "ad0257b3cd38410a8c3c4e4a911fd93f",
       "version_major": 2,
       "version_minor": 0
      },
      "text/plain": [
       "Label(value='\\u3000・最大入力比 fb(θ) = 0.8637 [-]\\u3000\\u3000\\u3000・最大入力 p_max = fb × p_rated = 8.6367 [kW]')"
      ]
     },
     "metadata": {},
     "output_type": "display_data"
    },
    {
     "data": {
      "application/vnd.jupyter.widget-view+json": {
       "model_id": "e305d74fde21433d9b6579584b8ef0e4",
       "version_major": 2,
       "version_minor": 0
      },
      "text/plain": [
       "Label(value='\\u3000・部分負荷率 L = q／q_max = 0.75 [-]\\u3000\\u3000・部分負荷特性 fc(L) = 0.7424 [-]')"
      ]
     },
     "metadata": {},
     "output_type": "display_data"
    },
    {
     "data": {
      "application/vnd.jupyter.widget-view+json": {
       "model_id": "72e798bb17814afea35658e8a306c3bd",
       "version_major": 2,
       "version_minor": 0
      },
      "text/plain": [
       "Label(value='\\u3000・送水温度特性 fd(θw) = 0.9841 [-]')"
      ]
     },
     "metadata": {},
     "output_type": "display_data"
    },
    {
     "data": {
      "application/vnd.jupyter.widget-view+json": {
       "model_id": "678ad509e0544710aa6a1525a2f5a1dd",
       "version_major": 2,
       "version_minor": 0
      },
      "text/plain": [
       "Label(value='\\u3000・エネルギー消費量 E = fc × fd × p_max = 6.3096 [kW]')"
      ]
     },
     "metadata": {},
     "output_type": "display_data"
    },
    {
     "data": {
      "image/png": "[encoded data removed]",
      "text/plain": [
       "<Figure size 800x800 with 4 Axes>"
      ]
     },
     "metadata": {
      "needs_background": "light"
     },
     "output_type": "display_data"
    }
   ],
   "source": [
    "# グラフ化機能\n",
    "\n",
    "HSE_name0 = list(ch_hse.keys())       # HSE_name0: ドロップボックスに表示する熱源機器名称リスト\n",
    "\n",
    "ChoosingHSE = widgets.Dropdown(\n",
    "    layout = { 'width' : '500px' },\n",
    "    options=['機種を選んでください']+HSE_name0,\n",
    "    value='機種を選んでください',\n",
    "    description='熱源機の種類:', style = { 'description_width':'initial' },\n",
    "    disabled=False)\n",
    "\n",
    "Text01=widgets.FloatText(layout = { 'width' : '500px' },\n",
    "    value=25,\n",
    "    description='　・熱源水等の温度 θ [℃]:', style = { 'description_width':'initial' },\n",
    "    disabled=False)\n",
    "\n",
    "Text02=widgets.BoundedFloatText(layout = { 'width' : '500px' },\n",
    "    min=0,max=999999999,value=7.5,\n",
    "    description='　・処理熱量 q [kW]:', style = { 'description_width':'initial' },\n",
    "    disabled=False)\n",
    "\n",
    "Text03=widgets.FloatText(layout = { 'width' : '500px' },\n",
    "    value=7.5,\n",
    "    description='　・送水温度 θw [℃]:', style = { 'description_width':'initial' },\n",
    "    disabled=False)\n",
    "\n",
    "ChoosingCorH=widgets.Dropdown(\n",
    "    layout = { 'width' : '500px' },\n",
    "    options=['冷房','暖房'],\n",
    "    value='冷房',\n",
    "    description='　・暖冷房:', style = { 'description_width':'initial' },\n",
    "    disabled=False)\n",
    "\n",
    "Text04=widgets.BoundedFloatText(layout = { 'width' : '500px' },\n",
    "    min=0,max=999999999,value=10,\n",
    "    description='　・定格能力 q_rated [kW]:', style = { 'description_width':'initial' },\n",
    "    disabled=False)\n",
    "\n",
    "Text05=widgets.BoundedFloatText(layout = { 'width' : '500px' },\n",
    "    min=0,max=999999999,value=10,\n",
    "    description='　・定格入力 p_rated [kW]:', style = { 'description_width':'initial' },\n",
    "    disabled=False)\n",
    "\n",
    "CorH = {'Cooling':['(冷房運転時)','冷房'],'Heating':['(暖房運転時)','暖房']}\n",
    "CorHr = {'冷房':'Cooling','暖房':'Heating'}\n",
    "fig= {}\n",
    "coeff00 = {}\n",
    "Label01=widgets.Label(value='【以下に機器条件、運転条件を入力することで特性値、エネルギー消費量が求まります】')\n",
    "Label02=widgets.Label(value='【以上の条件で計算された特性値、エネルギー消費量は以下の通りです】')\n",
    "Label03=widgets.Label(value='')\n",
    "Label04=widgets.Label(value='')\n",
    "Label05=widgets.Label(value='')\n",
    "Label06=widgets.Label(value='')\n",
    "Label07=widgets.Label(value='')\n",
    "\n",
    "\n",
    "def on_change(change):\n",
    "    clear_output()\n",
    "   \n",
    "    plt.rcParams[\"font.size\"] = 14\n",
    "    \n",
    "    if ChoosingHSE.value!='機種を選んでください':\n",
    "        \n",
    "        if change['type'] == 'change' and change['name'] == 'value':\n",
    "        \n",
    "            ChoosingHSE01 = ChoosingHSE.value   # ドロップダウンで選択した熱源機機種名\n",
    "            Cha0 = {}\n",
    "            Cha0['能力比'] = [221,'最大能力特性','熱源水等の温度[℃]','最大能力特性[-]']\n",
    "            Cha0['入力比'] = [222,'最大入力特性','熱源水等の温度[℃]','最大入力特性[-]']\n",
    "            Cha0['部分負荷特性'] = [223,'部分負荷特性','部分負荷率[-]','部分負荷特性[-]']\n",
    "            Cha0['送水温度特性'] = [224,'送水温度特性','送水温度[℃]','送水温度特性[-]']\n",
    "\n",
    "            fig= {}\n",
    "            coeff00 = {}\n",
    "            CorH0 = []\n",
    "            ax = {'能力比':221,'入力比':222,'部分負荷特性':223,'送水温度特性':224}\n",
    "            for iCorHkeys in CorH.keys():    # 暖房or冷房\n",
    "                if iCorHkeys in ch_hse[ChoosingHSE01].keys():    # 暖房or冷房があれば\n",
    "                    CorH0.append(CorH[iCorHkeys][1])\n",
    "                    # Axesを描画する領域(Figure)を作成\n",
    "                    fig[iCorHkeys] = plt.figure(figsize = (10, 10),dpi=80)    \n",
    "                    # Axesオブジェクト(サブプロット)間の余白調整\n",
    "                    fig[iCorHkeys].subplots_adjust(wspace = 0.4, hspace = 0.4)   \n",
    "                    # 領域(Figure)のタイトルに「機器＋暖or冷」を表示\n",
    "                    figcap = ChoosingHSE01 + ' ' + CorH[iCorHkeys][0]\n",
    "                    fig[iCorHkeys].suptitle(figcap, fontsize = 16, y=0.05)    \n",
    "                        \n",
    "                    for jCha0key in Cha0.keys():    # 特性種類(ex.'能力比')\n",
    "                        if jCha0key in ch_hse[ChoosingHSE01][iCorHkeys].keys():    # 特性があれば\n",
    "                            # FigureにAxes(サブプロット)を追加\n",
    "                            ax[jCha0key] = fig[iCorHkeys].add_subplot(Cha0[jCha0key][0])\n",
    "                            kkey = list(ch_hse[ChoosingHSE01][iCorHkeys][jCha0key].keys())[0]\n",
    "                            lkey1 = list(ch_hse[ChoosingHSE01][iCorHkeys][jCha0key][kkey].keys())[0]\n",
    "                            if ch_hse[ChoosingHSE01][iCorHkeys][jCha0key][kkey][lkey1][3] == '空気':\n",
    "                                if jCha0key == '能力比' or jCha0key == '入力比':\n",
    "                                    Cha0[jCha0key][2]='外気温度[℃]'\n",
    "                                    Text01.description='　・外気温度θ[℃]:'\n",
    "                            else:\n",
    "                                Text01.description='　・熱源水等の温度θ[℃]:'                                \n",
    "                                    \n",
    "                                    \n",
    "                            #Axisのタイトルを設定\n",
    "                            ax[jCha0key].set_title(Cha0[jCha0key][1], loc='right')\n",
    "                            # x、y軸にラベルを設定\n",
    "                            ax[jCha0key].set_xlabel(Cha0[jCha0key][2])\n",
    "                            ax[jCha0key].set_ylabel(Cha0[jCha0key][3])                            \n",
    "                            # グラフ描画データの抽出・整理\n",
    "                            coeff0 = func_check(ch_hse, ChoosingHSE01, iCorHkeys, jCha0key)\n",
    "                            coeff00.setdefault(iCorHkeys, {})\n",
    "                            coeff00[iCorHkeys].setdefault(jCha0key, coeff0)\n",
    "                            \n",
    "                            ymin1=10\n",
    "                            ymax1=0\n",
    "                            for kkey in coeff0.keys():    # 冷却水温度下限\n",
    "                                lkey0=list(coeff0[kkey].keys())[0]     # 最下限の抽出\n",
    "                                lkeym=list(coeff0[kkey].keys())[-1]    # 最上限の抽出\n",
    "                                # 計算する際のxの範囲設定\n",
    "                                if jCha0key == '部分負荷特性':\n",
    "                                    x = np.arange(0, 1.01, 0.025)   # 値xの範囲:0～1\n",
    "                                else:\n",
    "                                    x = np.arange(coeff0[kkey][lkey0][1]-10, coeff0[kkey][lkeym][0]+10.1, 0.1)                                    \n",
    "                                # yの計算式\n",
    "                                y = func_ch(coeff0[kkey], x)\n",
    "                                if ymax1 < max(y):\n",
    "                                    ymax1 = max(y)\n",
    "                                if ymin1 < min(y):\n",
    "                                    ymin1 = min(y)                                                                \n",
    "                                # (x,y)のプロット\n",
    "                                if len(coeff0.keys())==1:    # 一つのAxisに線(冷却水温度下限)が一つだけの場合\n",
    "                                    ax[jCha0key].plot(x, y, color = \"red\", linestyle = \"solid\", linewidth = 2)\n",
    "                                else:                         # 一つのAxisに線が複数の場合 → 凡例も表示\n",
    "                                    kk = list(coeff0.keys()).index(kkey)  # 冷却水温度幅の設定順\n",
    "                                    kn = len(coeff0.keys())               # 冷却水温度幅の設定数                                    \n",
    "                                    kkey1 = ch_hse[ChoosingHSE01][iCorHkeys][jCha0key][kkey][lkey1][11]  # 冷却水温度上限探索\n",
    "                                    if kkey-int(kkey)==0:\n",
    "                                        kkey0 = int(kkey)\n",
    "                                    else:\n",
    "                                        kkey0 = kkey\n",
    "                                    if kkey1-int(kkey1)==0:\n",
    "                                        kkey1 = int(kkey1)\n",
    "                                    else:\n",
    "                                        kkey1 = kkey1                                    \n",
    "                                    \n",
    "                                    label0 = str(kkey0)+'℃≦冷却水温度＜'+str(kkey1)+'℃'\n",
    "                                    ax[jCha0key].plot(x, y, color = \"red\", alpha = 1-kk/(kn)\n",
    "                                                     ,linestyle = \"solid\", linewidth = 2*kk+1\n",
    "                                                     ,label = label0)                                     \n",
    "                                    ax[jCha0key].legend(loc = \"best\", prop = fp_1)\n",
    "                     \n",
    "                          \n",
    "                            # x軸の範囲設定,目盛り設定\n",
    "                            if jCha0key == '部分負荷特性':\n",
    "                                ax[jCha0key].set_xlim(0, 1)    # 部分負荷特性のx軸は部分負荷率→0～1で表示\n",
    "                                ax[jCha0key].set_xticks([0,0.2,0.4,0.6,0.8,1.0])\n",
    "                                if ymin1<0.9:\n",
    "                                    ax[jCha0key].set_ylim(0, 1)   \n",
    "                                    ax[jCha0key].set_yticks([0,0.2,0.4,0.6,0.8,1.0])\n",
    "                                else:\n",
    "                                    ymax0 = int((ymax1+0.3)*5)/5\n",
    "                                    ax[jCha0key].set_ylim(0, ymax0) \n",
    "                                    ax[jCha0key].set_yticks(np.arange(0,ymax0+0.1,0.2))                                  \n",
    "                               \n",
    "                            else:\n",
    "                                # 他のx軸は温度→下限-5℃～上限+5℃で表示\n",
    "                                xmin0 = (list(coeff0[kkey].keys())[1]-5)//5*5\n",
    "                                xmax0 = (lkeym+5)//5*5\n",
    "                                ax[jCha0key].set_xlim(xmin0, xmax0)\n",
    "                                ax[jCha0key].set_xticks(list(range(int(xmin0),int(xmax0+1), 5)))\n",
    "                                ymax0 = int((ymax1+0.3)*5)/5\n",
    "                                ax[jCha0key].set_ylim(0, ymax0)\n",
    "                                ax[jCha0key].set_yticks(np.arange(0,ymax0+0.1,0.2))                                \n",
    "                            # x軸、y軸に目盛線を設定\n",
    "                            ax[jCha0key].grid(which = \"major\", axis = \"x\", color = \"gray\", alpha = 0.8,\n",
    "                                linestyle = \"--\", linewidth = 1)\n",
    "                            ax[jCha0key].grid(which = \"major\", axis = \"y\", color = \"gray\", alpha = 0.8,\n",
    "                                linestyle = \"--\", linewidth = 1)\n",
    "                    # 図で保存\n",
    "                    n = HSE_name0.index(ChoosingHSE01)\n",
    "                    if n<10:\n",
    "                        nn = '00'+str(n)\n",
    "                    elif n<100:\n",
    "                        nn= '0'+str(n)\n",
    "                    else:\n",
    "                        nn = str(n)\n",
    "                    \n",
    "                    # グラフを保存したい場合は、以下のコメントアウトを解除する。\n",
    "                    # plt.savefig(nn+' '+figcap+' '+'.png', dpi =256)\n",
    "                    \n",
    "            ChoosingCorH.options=CorH0\n",
    "            if ChoosingCorH.value not in CorH0:\n",
    "                ChoosingCorH.value=CorH0[0]\n",
    "\n",
    "            params = [ChoosingHSE01, CorHr[ChoosingCorH.value], Text01.value, Text02.value, Text03.value, Text04.value, Text05.value]\n",
    "            fa,fb,fc,fd,qmax,pmax,loadratio,EE = calc_pE(ch_hse, coeff00, params)    \n",
    "\n",
    "            Label03.value='　・最大能力比 fa(θ) = '+ str(round(fa,4)) + ' [-]　　　・最大能力 q_max = fa × q_rated = ' +str(round(qmax,4)) + ' [kW]'\n",
    "            Label04.value='　・最大入力比 fb(θ) = '+ str(round(fb,4)) + ' [-]　　　・最大入力 p_max = fb × p_rated = ' +str(round(pmax,4)) + ' [kW]'\n",
    "            Label05.value='　・部分負荷率 L = q／q_max = '+ str(round(loadratio,4)) + ' [-]　　・部分負荷特性 fc(L) = ' +str(round(fc,4)) + ' [-]'  \n",
    "            Label06.value='　・送水温度特性 fd(θw) = '+ str(round(fd,4)) + ' [-]'\n",
    "            Label07.value='　・エネルギー消費量 E = fc × fd × p_max = '+ str(round(EE,4)) + ' [kW]'            \n",
    "\n",
    "                       \n",
    "    display(ChoosingHSE) \n",
    "    display(Label01,ChoosingCorH,Text04,Text05,Text01,Text02,Text03)\n",
    "    display(Label02,Label03,Label04,Label05,Label06,Label07)\n",
    "    \n",
    "  \n",
    "ChoosingHSE.observe(on_change)\n",
    "ChoosingCorH.observe(on_change)\n",
    "Text01.observe(on_change)\n",
    "Text02.observe(on_change)\n",
    "Text03.observe(on_change)\n",
    "Text04.observe(on_change)\n",
    "Text05.observe(on_change)\n",
    "display(ChoosingHSE)\n",
    "\n",
    "    \n",
    "\n",
    "\n"
   ]
  },
  {
   "cell_type": "markdown",
   "metadata": {},
   "source": [
    "## 参考\n",
    "\n",
    "- https://webpro-nr.github.io/BESJP_EngineeringReference/index.html\n",
    "- https://github.com/WEBPRO-NR/BESJP_Webpro_RouteB\n",
    "- https://www.kenken.go.jp/becc/index.html\n",
    "- https://building.app.lowenergy.jp/\n",
    "https://python.atelierkobato.com/matplotlib/"
   ]
  }
 ],
 "metadata": {
  "file_extension": ".py",
  "kernelspec": {
   "display_name": "Python 3",
   "language": "python",
   "name": "python3"
  },
  "language_info": {
   "codemirror_mode": {
    "name": "ipython",
    "version": 3
   },
   "file_extension": ".py",
   "mimetype": "text/x-python",
   "name": "python",
   "nbconvert_exporter": "python",
   "pygments_lexer": "ipython3",
   "version": "3.7.2"
  },
  "mimetype": "text/x-python",
  "name": "python",
  "npconvert_exporter": "python",
  "pygments_lexer": "ipython3",
  "version": 3
 },
 "nbformat": 4,
 "nbformat_minor": 2
}
